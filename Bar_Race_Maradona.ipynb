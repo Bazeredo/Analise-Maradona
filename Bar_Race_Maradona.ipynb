{
 "cells": [
  {
   "cell_type": "code",
   "execution_count": 1,
   "metadata": {},
   "outputs": [
    {
     "name": "stdout",
     "output_type": "stream",
     "text": [
      "Requirement already satisfied: bar_chart_race in c:\\programdata\\anaconda3\\lib\\site-packages (0.1.0)\n",
      "Requirement already satisfied: matplotlib>=3.1 in c:\\programdata\\anaconda3\\lib\\site-packages (from bar_chart_race) (3.1.0)\n",
      "Requirement already satisfied: pandas>=0.24 in c:\\programdata\\anaconda3\\lib\\site-packages (from bar_chart_race) (0.24.2)\n",
      "Requirement already satisfied: cycler>=0.10 in c:\\programdata\\anaconda3\\lib\\site-packages (from matplotlib>=3.1->bar_chart_race) (0.10.0)\n",
      "Requirement already satisfied: kiwisolver>=1.0.1 in c:\\programdata\\anaconda3\\lib\\site-packages (from matplotlib>=3.1->bar_chart_race) (1.1.0)\n",
      "Requirement already satisfied: pyparsing!=2.0.4,!=2.1.2,!=2.1.6,>=2.0.1 in c:\\programdata\\anaconda3\\lib\\site-packages (from matplotlib>=3.1->bar_chart_race) (2.4.0)\n",
      "Requirement already satisfied: python-dateutil>=2.1 in c:\\programdata\\anaconda3\\lib\\site-packages (from matplotlib>=3.1->bar_chart_race) (2.8.0)\n",
      "Requirement already satisfied: numpy>=1.11 in c:\\programdata\\anaconda3\\lib\\site-packages (from matplotlib>=3.1->bar_chart_race) (1.16.4)\n",
      "Requirement already satisfied: pytz>=2011k in c:\\programdata\\anaconda3\\lib\\site-packages (from pandas>=0.24->bar_chart_race) (2019.1)\n",
      "Requirement already satisfied: six in c:\\users\\bazeredo\\appdata\\roaming\\python\\python37\\site-packages (from cycler>=0.10->matplotlib>=3.1->bar_chart_race) (1.15.0)\n",
      "Requirement already satisfied: setuptools in c:\\programdata\\anaconda3\\lib\\site-packages (from kiwisolver>=1.0.1->matplotlib>=3.1->bar_chart_race) (41.0.1)\n",
      "Note: you may need to restart the kernel to use updated packages.\n"
     ]
    }
   ],
   "source": [
    "pip install bar_chart_race"
   ]
  },
  {
   "cell_type": "code",
   "execution_count": 2,
   "metadata": {},
   "outputs": [],
   "source": [
    "import bar_chart_race as bcr\n",
    "import pandas as pd"
   ]
  },
  {
   "cell_type": "code",
   "execution_count": 24,
   "metadata": {},
   "outputs": [],
   "source": [
    "datamaradona = pd.read_excel(r'ListaMaradona.xlsx')"
   ]
  },
  {
   "cell_type": "code",
   "execution_count": 25,
   "metadata": {},
   "outputs": [
    {
     "data": {
      "text/html": [
       "<div>\n",
       "<style scoped>\n",
       "    .dataframe tbody tr th:only-of-type {\n",
       "        vertical-align: middle;\n",
       "    }\n",
       "\n",
       "    .dataframe tbody tr th {\n",
       "        vertical-align: top;\n",
       "    }\n",
       "\n",
       "    .dataframe thead th {\n",
       "        text-align: right;\n",
       "    }\n",
       "</style>\n",
       "<table border=\"1\" class=\"dataframe\">\n",
       "  <thead>\n",
       "    <tr style=\"text-align: right;\">\n",
       "      <th></th>\n",
       "      <th>Jogador</th>\n",
       "      <th>Data</th>\n",
       "      <th>Time</th>\n",
       "      <th>Placar</th>\n",
       "      <th>Unnamed: 4</th>\n",
       "      <th>Unnamed: 5</th>\n",
       "      <th>Adversário</th>\n",
       "      <th>Compet</th>\n",
       "      <th>Gols</th>\n",
       "      <th>GolsAcumulado</th>\n",
       "    </tr>\n",
       "  </thead>\n",
       "  <tbody>\n",
       "    <tr>\n",
       "      <th>0</th>\n",
       "      <td>Maradona</td>\n",
       "      <td>1979-02-06 00:00:00</td>\n",
       "      <td>Argentina</td>\n",
       "      <td>3</td>\n",
       "      <td>x</td>\n",
       "      <td>1</td>\n",
       "      <td>Escócia</td>\n",
       "      <td>Amistoso de Seleções - Jogo oficial FIFA</td>\n",
       "      <td>1</td>\n",
       "      <td>1</td>\n",
       "    </tr>\n",
       "    <tr>\n",
       "      <th>1</th>\n",
       "      <td>Maradona</td>\n",
       "      <td>25/06/1979</td>\n",
       "      <td>Argentina</td>\n",
       "      <td>1</td>\n",
       "      <td>x</td>\n",
       "      <td>2</td>\n",
       "      <td>Sel. FIFA</td>\n",
       "      <td>Amistoso de Seleções - Jogo oficial FIFA</td>\n",
       "      <td>1</td>\n",
       "      <td>2</td>\n",
       "    </tr>\n",
       "    <tr>\n",
       "      <th>2</th>\n",
       "      <td>Maradona</td>\n",
       "      <td>1979-08-08 00:00:00</td>\n",
       "      <td>Argentina</td>\n",
       "      <td>3</td>\n",
       "      <td>x</td>\n",
       "      <td>0</td>\n",
       "      <td>Bolívia</td>\n",
       "      <td>Amistoso de Seleções - Jogo oficial FIFA</td>\n",
       "      <td>1</td>\n",
       "      <td>3</td>\n",
       "    </tr>\n",
       "    <tr>\n",
       "      <th>3</th>\n",
       "      <td>Maradona</td>\n",
       "      <td>30/04/1980</td>\n",
       "      <td>Argentina</td>\n",
       "      <td>1</td>\n",
       "      <td>x</td>\n",
       "      <td>0</td>\n",
       "      <td>Irlanda</td>\n",
       "      <td>Amistoso de Seleções - Jogo oficial FIFA</td>\n",
       "      <td>1</td>\n",
       "      <td>4</td>\n",
       "    </tr>\n",
       "    <tr>\n",
       "      <th>4</th>\n",
       "      <td>Maradona</td>\n",
       "      <td>21/05/1980</td>\n",
       "      <td>Argentina</td>\n",
       "      <td>5</td>\n",
       "      <td>x</td>\n",
       "      <td>1</td>\n",
       "      <td>Áustria</td>\n",
       "      <td>Amistoso de Seleções - Jogo oficial FIFA</td>\n",
       "      <td>3</td>\n",
       "      <td>7</td>\n",
       "    </tr>\n",
       "  </tbody>\n",
       "</table>\n",
       "</div>"
      ],
      "text/plain": [
       "    Jogador                 Data       Time  Placar Unnamed: 4  Unnamed: 5  \\\n",
       "0  Maradona  1979-02-06 00:00:00  Argentina       3          x           1   \n",
       "1  Maradona           25/06/1979  Argentina       1          x           2   \n",
       "2  Maradona  1979-08-08 00:00:00  Argentina       3          x           0   \n",
       "3  Maradona           30/04/1980  Argentina       1          x           0   \n",
       "4  Maradona           21/05/1980  Argentina       5          x           1   \n",
       "\n",
       "  Adversário                                    Compet  Gols  GolsAcumulado  \n",
       "0    Escócia  Amistoso de Seleções - Jogo oficial FIFA     1              1  \n",
       "1  Sel. FIFA  Amistoso de Seleções - Jogo oficial FIFA     1              2  \n",
       "2    Bolívia  Amistoso de Seleções - Jogo oficial FIFA     1              3  \n",
       "3    Irlanda  Amistoso de Seleções - Jogo oficial FIFA     1              4  \n",
       "4    Áustria  Amistoso de Seleções - Jogo oficial FIFA     3              7  "
      ]
     },
     "execution_count": 25,
     "metadata": {},
     "output_type": "execute_result"
    }
   ],
   "source": [
    "datamaradona.head()"
   ]
  },
  {
   "cell_type": "code",
   "execution_count": 26,
   "metadata": {},
   "outputs": [
    {
     "name": "stdout",
     "output_type": "stream",
     "text": [
      "<class 'pandas.core.frame.DataFrame'>\n",
      "RangeIndex: 266 entries, 0 to 265\n",
      "Data columns (total 10 columns):\n",
      "Jogador          266 non-null object\n",
      "Data             266 non-null object\n",
      "Time             266 non-null object\n",
      "Placar           266 non-null int64\n",
      "Unnamed: 4       266 non-null object\n",
      "Unnamed: 5       266 non-null int64\n",
      "Adversário       266 non-null object\n",
      "Compet           266 non-null object\n",
      "Gols             266 non-null int64\n",
      "GolsAcumulado    266 non-null int64\n",
      "dtypes: int64(4), object(6)\n",
      "memory usage: 20.9+ KB\n"
     ]
    }
   ],
   "source": [
    "datamaradona.info()"
   ]
  },
  {
   "cell_type": "code",
   "execution_count": 27,
   "metadata": {},
   "outputs": [],
   "source": [
    "datamaradona['Data'] = pd.to_datetime(datamaradona['Data'])"
   ]
  },
  {
   "cell_type": "code",
   "execution_count": 28,
   "metadata": {},
   "outputs": [
    {
     "name": "stdout",
     "output_type": "stream",
     "text": [
      "<class 'pandas.core.frame.DataFrame'>\n",
      "RangeIndex: 266 entries, 0 to 265\n",
      "Data columns (total 10 columns):\n",
      "Jogador          266 non-null object\n",
      "Data             266 non-null datetime64[ns]\n",
      "Time             266 non-null object\n",
      "Placar           266 non-null int64\n",
      "Unnamed: 4       266 non-null object\n",
      "Unnamed: 5       266 non-null int64\n",
      "Adversário       266 non-null object\n",
      "Compet           266 non-null object\n",
      "Gols             266 non-null int64\n",
      "GolsAcumulado    266 non-null int64\n",
      "dtypes: datetime64[ns](1), int64(4), object(5)\n",
      "memory usage: 20.9+ KB\n"
     ]
    }
   ],
   "source": [
    "datamaradona.info()"
   ]
  },
  {
   "cell_type": "code",
   "execution_count": 32,
   "metadata": {},
   "outputs": [],
   "source": [
    "maradona_bcr = pd.DataFrame(datamaradona.groupby(['Time','Data']).sum()['Gols']).unstack().T.droplevel(level=0)"
   ]
  },
  {
   "cell_type": "code",
   "execution_count": 33,
   "metadata": {},
   "outputs": [
    {
     "data": {
      "text/html": [
       "<div>\n",
       "<style scoped>\n",
       "    .dataframe tbody tr th:only-of-type {\n",
       "        vertical-align: middle;\n",
       "    }\n",
       "\n",
       "    .dataframe tbody tr th {\n",
       "        vertical-align: top;\n",
       "    }\n",
       "\n",
       "    .dataframe thead th {\n",
       "        text-align: right;\n",
       "    }\n",
       "</style>\n",
       "<table border=\"1\" class=\"dataframe\">\n",
       "  <thead>\n",
       "    <tr style=\"text-align: right;\">\n",
       "      <th>Time</th>\n",
       "      <th>Argentina</th>\n",
       "      <th>Argentino Jrs.</th>\n",
       "      <th>Barcelona</th>\n",
       "      <th>Boca Juniors</th>\n",
       "      <th>Napoli</th>\n",
       "      <th>Sevilla</th>\n",
       "    </tr>\n",
       "    <tr>\n",
       "      <th>Data</th>\n",
       "      <th></th>\n",
       "      <th></th>\n",
       "      <th></th>\n",
       "      <th></th>\n",
       "      <th></th>\n",
       "      <th></th>\n",
       "    </tr>\n",
       "  </thead>\n",
       "  <tbody>\n",
       "    <tr>\n",
       "      <th>1977-02-11</th>\n",
       "      <td>NaN</td>\n",
       "      <td>2.0</td>\n",
       "      <td>NaN</td>\n",
       "      <td>NaN</td>\n",
       "      <td>NaN</td>\n",
       "      <td>NaN</td>\n",
       "    </tr>\n",
       "    <tr>\n",
       "      <th>1977-04-09</th>\n",
       "      <td>NaN</td>\n",
       "      <td>1.0</td>\n",
       "      <td>NaN</td>\n",
       "      <td>NaN</td>\n",
       "      <td>NaN</td>\n",
       "      <td>NaN</td>\n",
       "    </tr>\n",
       "    <tr>\n",
       "      <th>1977-04-12</th>\n",
       "      <td>NaN</td>\n",
       "      <td>1.0</td>\n",
       "      <td>NaN</td>\n",
       "      <td>NaN</td>\n",
       "      <td>NaN</td>\n",
       "      <td>NaN</td>\n",
       "    </tr>\n",
       "    <tr>\n",
       "      <th>1977-05-10</th>\n",
       "      <td>NaN</td>\n",
       "      <td>1.0</td>\n",
       "      <td>NaN</td>\n",
       "      <td>NaN</td>\n",
       "      <td>NaN</td>\n",
       "      <td>NaN</td>\n",
       "    </tr>\n",
       "    <tr>\n",
       "      <th>1977-05-15</th>\n",
       "      <td>NaN</td>\n",
       "      <td>1.0</td>\n",
       "      <td>NaN</td>\n",
       "      <td>NaN</td>\n",
       "      <td>NaN</td>\n",
       "      <td>NaN</td>\n",
       "    </tr>\n",
       "  </tbody>\n",
       "</table>\n",
       "</div>"
      ],
      "text/plain": [
       "Time        Argentina  Argentino Jrs.  Barcelona  Boca Juniors  Napoli  \\\n",
       "Data                                                                     \n",
       "1977-02-11        NaN             2.0        NaN           NaN     NaN   \n",
       "1977-04-09        NaN             1.0        NaN           NaN     NaN   \n",
       "1977-04-12        NaN             1.0        NaN           NaN     NaN   \n",
       "1977-05-10        NaN             1.0        NaN           NaN     NaN   \n",
       "1977-05-15        NaN             1.0        NaN           NaN     NaN   \n",
       "\n",
       "Time        Sevilla  \n",
       "Data                 \n",
       "1977-02-11      NaN  \n",
       "1977-04-09      NaN  \n",
       "1977-04-12      NaN  \n",
       "1977-05-10      NaN  \n",
       "1977-05-15      NaN  "
      ]
     },
     "execution_count": 33,
     "metadata": {},
     "output_type": "execute_result"
    }
   ],
   "source": [
    "maradona_bcr.head()"
   ]
  },
  {
   "cell_type": "code",
   "execution_count": null,
   "metadata": {},
   "outputs": [
    {
     "name": "stderr",
     "output_type": "stream",
     "text": [
      "C:\\ProgramData\\Anaconda3\\lib\\site-packages\\bar_chart_race\\_make_chart.py:324: RuntimeWarning: invalid value encountered in greater\n",
      "  top_filt = (bar_location > 0) & (bar_location < self.n_bars + 1)\n",
      "C:\\ProgramData\\Anaconda3\\lib\\site-packages\\bar_chart_race\\_make_chart.py:324: RuntimeWarning: invalid value encountered in less\n",
      "  top_filt = (bar_location > 0) & (bar_location < self.n_bars + 1)\n"
     ]
    }
   ],
   "source": [
    "bcr.bar_chart_race(maradona_bcr)"
   ]
  },
  {
   "cell_type": "code",
   "execution_count": null,
   "metadata": {},
   "outputs": [],
   "source": []
  }
 ],
 "metadata": {
  "kernelspec": {
   "display_name": "Python 3",
   "language": "python",
   "name": "python3"
  },
  "language_info": {
   "codemirror_mode": {
    "name": "ipython",
    "version": 3
   },
   "file_extension": ".py",
   "mimetype": "text/x-python",
   "name": "python",
   "nbconvert_exporter": "python",
   "pygments_lexer": "ipython3",
   "version": "3.7.3"
  }
 },
 "nbformat": 4,
 "nbformat_minor": 4
}
